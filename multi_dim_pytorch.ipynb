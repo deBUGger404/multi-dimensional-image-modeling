{
 "cells": [
  {
   "cell_type": "code",
   "execution_count": 1,
   "id": "74cddc66",
   "metadata": {},
   "outputs": [],
   "source": [
    "import warnings\n",
    "import numpy as np\n",
    "import pandas as pd\n",
    "\n",
    "from model.models import *\n",
    "from model.model_training import *\n",
    "from utils.utils import *\n",
    "\n",
    "import torch\n",
    "import torch.nn as nn\n",
    "from torch.utils.data import Dataset, DataLoader\n",
    "\n",
    "import matplotlib.pyplot as plt\n",
    "from sklearn.model_selection import train_test_split\n",
    "from torch.utils.data.sampler import SubsetRandomSampler"
   ]
  },
  {
   "cell_type": "code",
   "execution_count": 2,
   "id": "06433d9c",
   "metadata": {},
   "outputs": [],
   "source": [
    "warnings.filterwarnings(\"ignore\")"
   ]
  },
  {
   "cell_type": "code",
   "execution_count": 3,
   "id": "05e1548e",
   "metadata": {},
   "outputs": [],
   "source": [
    "# variable init\n",
    "batch_size = 32\n",
    "val_split = 0.3\n",
    "shuffle_dataset = True\n",
    "random_seed = 123\n",
    "visualization = True\n",
    "num_epochs = 10\n",
    "valid_loss_min = np.Inf\n",
    "model_name = 'resnet'\n",
    "num_classes = 2\n",
    "input_dim = 8"
   ]
  },
  {
   "cell_type": "code",
   "execution_count": 4,
   "id": "fe97ecae",
   "metadata": {},
   "outputs": [],
   "source": [
    "# random image dataset for 8 dimension image\n",
    "class random_dataset(Dataset):\n",
    "    def __init__(self):\n",
    "        self.image = np.random.rand(500,224,224,8)\n",
    "        self.labels = np.random.choice([0, 1], size=(500,), p=[0.6,0.4])\n",
    "\n",
    "    def __getitem__(self, index):\n",
    "        image_1 = self.image[index]\n",
    "        labels_1 = self.labels[index]\n",
    "        image_2 = np.transpose(image_1, (2,1,0))\n",
    "        return image_2, labels_1\n",
    "    \n",
    "    def __len__(self):\n",
    "        return len(self.labels)"
   ]
  },
  {
   "cell_type": "code",
   "execution_count": 5,
   "id": "684af766",
   "metadata": {},
   "outputs": [],
   "source": [
    "# Creating training and validation dataset\n",
    "dataset = random_dataset()\n",
    "data_size = len(dataset)\n",
    "\n",
    "indices = list(range(data_size))\n",
    "split = int(np.floor(val_split * data_size))\n",
    "\n",
    "if shuffle_dataset :\n",
    "    np.random.seed(random_seed)\n",
    "    np.random.shuffle(indices)\n",
    "train_indices, val_indices = indices[split:], indices[:split]\n",
    "\n",
    "# Create train ad val data loaders:\n",
    "train_sampler = SubsetRandomSampler(train_indices)\n",
    "valid_sampler = SubsetRandomSampler(val_indices)\n",
    "\n",
    "train_loader = torch.utils.data.DataLoader(dataset,\n",
    "                                            batch_size=batch_size,\n",
    "                                            sampler=train_sampler,\n",
    "                                            num_workers=8,\n",
    "                                            pin_memory=True)\n",
    "val_loader = torch.utils.data.DataLoader(dataset,\n",
    "                                            batch_size=batch_size,\n",
    "                                            sampler=valid_sampler,\n",
    "                                            num_workers=8,\n",
    "                                            pin_memory=True)"
   ]
  },
  {
   "cell_type": "code",
   "execution_count": 6,
   "id": "54972fbc",
   "metadata": {},
   "outputs": [
    {
     "name": "stdout",
     "output_type": "stream",
     "text": [
      "11\n"
     ]
    }
   ],
   "source": [
    "print('11')\n",
    "# resnet, vgg, densenet, alexnet\n",
    "device = torch.device(\"cuda\" if torch.cuda.is_available() else \"cpu\")\n",
    "model_ft, input_size = initialize_model(model_name, num_classes, 8, use_pretrained=True)\n",
    "\n",
    "# Put the model on the device:\n",
    "model_ft = model_ft.to(device)"
   ]
  },
  {
   "cell_type": "code",
   "execution_count": 7,
   "id": "56085867",
   "metadata": {},
   "outputs": [],
   "source": [
    "# define loss function\n",
    "criterion = nn.CrossEntropyLoss().to(device)\n",
    "optimizer = torch.optim.Adam(model_ft.parameters(), lr=0.0001)\n",
    "lr_scheduler = torch.optim.lr_scheduler.CosineAnnealingLR(optimizer, T_max=num_epochs, eta_min=0.001)"
   ]
  },
  {
   "cell_type": "code",
   "execution_count": 8,
   "id": "646cc6b6",
   "metadata": {},
   "outputs": [
    {
     "name": "stdout",
     "output_type": "stream",
     "text": [
      "Epoch 0: | Training_Loss: 0.68956             | Training_Acc: 58.669\n",
      "Epoch 0: | Validation_Loss: 0.67557           | Validation_Acc: 60.547\n",
      "Validation loss decreased (inf --> 0.675568).  Saving model ...\n",
      "Epoch 1: | Training_Loss: 0.66353             | Training_Acc: 59.303\n",
      "Epoch 1: | Validation_Loss: 0.68185           | Validation_Acc: 60.360\n",
      "EarlyStopping counter: 1 out of 15\n",
      "Epoch 2: | Training_Loss: 0.63424             | Training_Acc: 62.211\n",
      "Epoch 2: | Validation_Loss: 0.68103           | Validation_Acc: 60.760\n",
      "EarlyStopping counter: 2 out of 15\n",
      "Epoch 3: | Training_Loss: 0.59991             | Training_Acc: 65.960\n",
      "Epoch 3: | Validation_Loss: 0.68510           | Validation_Acc: 61.133\n",
      "EarlyStopping counter: 3 out of 15\n",
      "Epoch 4: | Training_Loss: 0.54294             | Training_Acc: 78.080\n",
      "Epoch 4: | Validation_Loss: 0.69952           | Validation_Acc: 58.360\n",
      "EarlyStopping counter: 4 out of 15\n",
      "Epoch 5: | Training_Loss: 0.47819             | Training_Acc: 79.594\n",
      "Epoch 5: | Validation_Loss: 0.73656           | Validation_Acc: 49.453\n",
      "EarlyStopping counter: 5 out of 15\n",
      "Epoch 6: | Training_Loss: 0.35118             | Training_Acc: 89.503\n",
      "Epoch 6: | Validation_Loss: 0.79075           | Validation_Acc: 53.320\n",
      "EarlyStopping counter: 6 out of 15\n",
      "Epoch 7: | Training_Loss: 0.15945             | Training_Acc: 98.080\n",
      "Epoch 7: | Validation_Loss: 0.89240           | Validation_Acc: 51.880\n",
      "EarlyStopping counter: 7 out of 15\n",
      "Epoch 8: | Training_Loss: 0.06165             | Training_Acc: 100.000\n",
      "Epoch 8: | Validation_Loss: 1.05528           | Validation_Acc: 51.960\n",
      "EarlyStopping counter: 8 out of 15\n",
      "Epoch 9: | Training_Loss: 0.01955             | Training_Acc: 100.000\n",
      "Epoch 9: | Validation_Loss: 1.12115           | Validation_Acc: 50.733\n",
      "EarlyStopping counter: 9 out of 15\n",
      "Final best acc_score: 61.13334\n"
     ]
    }
   ],
   "source": [
    "## model training\n",
    "## model_train function save model automatically as model_multi_dim.pth\n",
    "set_seed()\n",
    "model_train(model_ft, optimizer, criterion, lr_scheduler, device, train_loader, val_loader, n_epochs=num_epochs).run()"
   ]
  },
  {
   "cell_type": "code",
   "execution_count": null,
   "id": "8602ce4f",
   "metadata": {},
   "outputs": [],
   "source": []
  }
 ],
 "metadata": {
  "kernelspec": {
   "display_name": "Python 3",
   "language": "python",
   "name": "python3"
  },
  "language_info": {
   "codemirror_mode": {
    "name": "ipython",
    "version": 3
   },
   "file_extension": ".py",
   "mimetype": "text/x-python",
   "name": "python",
   "nbconvert_exporter": "python",
   "pygments_lexer": "ipython3",
   "version": "3.6.9"
  }
 },
 "nbformat": 4,
 "nbformat_minor": 5
}
